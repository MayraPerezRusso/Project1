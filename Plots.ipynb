{
 "cells": [
  {
   "cell_type": "code",
   "execution_count": 74,
   "metadata": {},
   "outputs": [
    {
     "data": {
      "text/html": [
       "<div>\n",
       "<style scoped>\n",
       "    .dataframe tbody tr th:only-of-type {\n",
       "        vertical-align: middle;\n",
       "    }\n",
       "\n",
       "    .dataframe tbody tr th {\n",
       "        vertical-align: top;\n",
       "    }\n",
       "\n",
       "    .dataframe thead th {\n",
       "        text-align: right;\n",
       "    }\n",
       "</style>\n",
       "<table border=\"1\" class=\"dataframe\">\n",
       "  <thead>\n",
       "    <tr style=\"text-align: right;\">\n",
       "      <th></th>\n",
       "      <th>City</th>\n",
       "      <th>State</th>\n",
       "      <th>Year</th>\n",
       "      <th>Zipcode_x</th>\n",
       "      <th>AvrgCommute</th>\n",
       "      <th>AvrgIncome</th>\n",
       "      <th>Zipcode_y</th>\n",
       "      <th>Avrg_HomeValue</th>\n",
       "      <th>MedianMonthly_HC</th>\n",
       "      <th>Zipcode</th>\n",
       "      <th>Number</th>\n",
       "    </tr>\n",
       "  </thead>\n",
       "  <tbody>\n",
       "    <tr>\n",
       "      <th>0</th>\n",
       "      <td>Abilene</td>\n",
       "      <td>Texas</td>\n",
       "      <td>2013</td>\n",
       "      <td>2000</td>\n",
       "      <td>18.677578</td>\n",
       "      <td>31837.111507</td>\n",
       "      <td>1000</td>\n",
       "      <td>89700.0</td>\n",
       "      <td>740.0</td>\n",
       "      <td>1000</td>\n",
       "      <td>48</td>\n",
       "    </tr>\n",
       "    <tr>\n",
       "      <th>1</th>\n",
       "      <td>Abilene</td>\n",
       "      <td>Texas</td>\n",
       "      <td>2014</td>\n",
       "      <td>2000</td>\n",
       "      <td>19.269898</td>\n",
       "      <td>32825.921984</td>\n",
       "      <td>1000</td>\n",
       "      <td>103000.0</td>\n",
       "      <td>800.0</td>\n",
       "      <td>1000</td>\n",
       "      <td>48</td>\n",
       "    </tr>\n",
       "    <tr>\n",
       "      <th>2</th>\n",
       "      <td>Abilene</td>\n",
       "      <td>Texas</td>\n",
       "      <td>2015</td>\n",
       "      <td>2000</td>\n",
       "      <td>17.774664</td>\n",
       "      <td>34969.874497</td>\n",
       "      <td>1000</td>\n",
       "      <td>113400.0</td>\n",
       "      <td>805.0</td>\n",
       "      <td>1000</td>\n",
       "      <td>48</td>\n",
       "    </tr>\n",
       "    <tr>\n",
       "      <th>3</th>\n",
       "      <td>Abilene</td>\n",
       "      <td>Texas</td>\n",
       "      <td>2016</td>\n",
       "      <td>2000</td>\n",
       "      <td>21.091624</td>\n",
       "      <td>33090.747895</td>\n",
       "      <td>1000</td>\n",
       "      <td>107200.0</td>\n",
       "      <td>797.0</td>\n",
       "      <td>1000</td>\n",
       "      <td>48</td>\n",
       "    </tr>\n",
       "    <tr>\n",
       "      <th>4</th>\n",
       "      <td>Abilene</td>\n",
       "      <td>Texas</td>\n",
       "      <td>2017</td>\n",
       "      <td>2000</td>\n",
       "      <td>20.318681</td>\n",
       "      <td>37638.016147</td>\n",
       "      <td>1000</td>\n",
       "      <td>114900.0</td>\n",
       "      <td>784.0</td>\n",
       "      <td>1000</td>\n",
       "      <td>48</td>\n",
       "    </tr>\n",
       "    <tr>\n",
       "      <th>5</th>\n",
       "      <td>Akron</td>\n",
       "      <td>Ohio</td>\n",
       "      <td>2013</td>\n",
       "      <td>2000</td>\n",
       "      <td>26.596720</td>\n",
       "      <td>31964.392992</td>\n",
       "      <td>1000</td>\n",
       "      <td>78600.0</td>\n",
       "      <td>717.0</td>\n",
       "      <td>1000</td>\n",
       "      <td>39</td>\n",
       "    </tr>\n",
       "    <tr>\n",
       "      <th>6</th>\n",
       "      <td>Akron</td>\n",
       "      <td>Ohio</td>\n",
       "      <td>2014</td>\n",
       "      <td>2000</td>\n",
       "      <td>26.222661</td>\n",
       "      <td>31517.275773</td>\n",
       "      <td>1000</td>\n",
       "      <td>80300.0</td>\n",
       "      <td>730.0</td>\n",
       "      <td>1000</td>\n",
       "      <td>39</td>\n",
       "    </tr>\n",
       "    <tr>\n",
       "      <th>7</th>\n",
       "      <td>Akron</td>\n",
       "      <td>Ohio</td>\n",
       "      <td>2015</td>\n",
       "      <td>2000</td>\n",
       "      <td>27.322526</td>\n",
       "      <td>34961.820853</td>\n",
       "      <td>1000</td>\n",
       "      <td>80600.0</td>\n",
       "      <td>708.0</td>\n",
       "      <td>1000</td>\n",
       "      <td>39</td>\n",
       "    </tr>\n",
       "    <tr>\n",
       "      <th>8</th>\n",
       "      <td>Akron</td>\n",
       "      <td>Ohio</td>\n",
       "      <td>2016</td>\n",
       "      <td>2000</td>\n",
       "      <td>26.151451</td>\n",
       "      <td>34155.503968</td>\n",
       "      <td>1000</td>\n",
       "      <td>78000.0</td>\n",
       "      <td>725.0</td>\n",
       "      <td>1000</td>\n",
       "      <td>39</td>\n",
       "    </tr>\n",
       "    <tr>\n",
       "      <th>9</th>\n",
       "      <td>Akron</td>\n",
       "      <td>Ohio</td>\n",
       "      <td>2017</td>\n",
       "      <td>2000</td>\n",
       "      <td>25.868104</td>\n",
       "      <td>31342.588614</td>\n",
       "      <td>1000</td>\n",
       "      <td>81600.0</td>\n",
       "      <td>736.0</td>\n",
       "      <td>1000</td>\n",
       "      <td>39</td>\n",
       "    </tr>\n",
       "  </tbody>\n",
       "</table>\n",
       "</div>"
      ],
      "text/plain": [
       "      City  State  Year  Zipcode_x  AvrgCommute    AvrgIncome  Zipcode_y  \\\n",
       "0  Abilene  Texas  2013       2000    18.677578  31837.111507       1000   \n",
       "1  Abilene  Texas  2014       2000    19.269898  32825.921984       1000   \n",
       "2  Abilene  Texas  2015       2000    17.774664  34969.874497       1000   \n",
       "3  Abilene  Texas  2016       2000    21.091624  33090.747895       1000   \n",
       "4  Abilene  Texas  2017       2000    20.318681  37638.016147       1000   \n",
       "5    Akron   Ohio  2013       2000    26.596720  31964.392992       1000   \n",
       "6    Akron   Ohio  2014       2000    26.222661  31517.275773       1000   \n",
       "7    Akron   Ohio  2015       2000    27.322526  34961.820853       1000   \n",
       "8    Akron   Ohio  2016       2000    26.151451  34155.503968       1000   \n",
       "9    Akron   Ohio  2017       2000    25.868104  31342.588614       1000   \n",
       "\n",
       "   Avrg_HomeValue  MedianMonthly_HC  Zipcode  Number  \n",
       "0         89700.0             740.0     1000      48  \n",
       "1        103000.0             800.0     1000      48  \n",
       "2        113400.0             805.0     1000      48  \n",
       "3        107200.0             797.0     1000      48  \n",
       "4        114900.0             784.0     1000      48  \n",
       "5         78600.0             717.0     1000      39  \n",
       "6         80300.0             730.0     1000      39  \n",
       "7         80600.0             708.0     1000      39  \n",
       "8         78000.0             725.0     1000      39  \n",
       "9         81600.0             736.0     1000      39  "
      ]
     },
     "execution_count": 74,
     "metadata": {},
     "output_type": "execute_result"
    }
   ],
   "source": [
    "import numpy as np\n",
    "import matplotlib.pyplot as plt\n",
    "import pandas as pd\n",
    "data=pd.read_csv(\"DataAvrgFinal2.csv\")\n",
    "data.head(10)"
   ]
  },
  {
   "cell_type": "code",
   "execution_count": 75,
   "metadata": {},
   "outputs": [
    {
     "data": {
      "text/plain": [
       "array(['Antioch', 'Dale City CDP', 'Lake Elsinore', 'New York',\n",
       "       'Palmdale', 'Pittsburg', 'Poinciana CDP', 'Tracy', 'Waldorf CDP'],\n",
       "      dtype=object)"
      ]
     },
     "execution_count": 75,
     "metadata": {},
     "output_type": "execute_result"
    }
   ],
   "source": [
    "data5cities=data.groupby(['City','State'], as_index=False).mean()\n",
    "data5cities.head()\n",
    "data5cities2=data5cities[data5cities['AvrgCommute']>=50]\n",
    "list1=data5cities2['City'].unique()\n",
    "list1"
   ]
  },
  {
   "cell_type": "code",
   "execution_count": 76,
   "metadata": {},
   "outputs": [
    {
     "data": {
      "image/png": "[encoded data removed]",
      "text/plain": [
       "<Figure size 432x288 with 1 Axes>"
      ]
     },
     "metadata": {
      "needs_background": "light"
     },
     "output_type": "display_data"
    }
   ],
   "source": [
    "#list1=['New York', 'Tracy']\n",
    "\n",
    "#test=pd.merge(data,data5cities2,on=['City','State'])\n",
    "#test\n",
    "for item in list1:\n",
    "    test=data[data['City']==item]\n",
    "    plt.plot(test['Year'], test['AvrgCommute'], marker=\"^\", color=\"red\", label=item)\n",
    "plt.xlim(2012,2018,1)\n",
    "plt.ylim(5,70,5)\n",
    "plt.show()"
   ]
  },
  {
   "cell_type": "code",
   "execution_count": 77,
   "metadata": {},
   "outputs": [
    {
     "data": {
      "image/png": "[encoded data removed]",
      "text/plain": [
       "<Figure size 432x288 with 1 Axes>"
      ]
     },
     "metadata": {
      "needs_background": "light"
     },
     "output_type": "display_data"
    }
   ],
   "source": [
    "for item in list1:\n",
    "    test=data[data['City']==item]\n",
    "    plt.plot(test['Year'], test['AvrgIncome'], marker=\"^\", color=\"red\", label=\"l\")\n",
    "plt.xlim(2012,2018,1)\n",
    "plt.ylim(30000,100000,10000)\n",
    "plt.show()"
   ]
  },
  {
   "cell_type": "code",
   "execution_count": 78,
   "metadata": {},
   "outputs": [
    {
     "data": {
      "image/png": "[encoded data removed]",
      "text/plain": [
       "<Figure size 432x288 with 1 Axes>"
      ]
     },
     "metadata": {
      "needs_background": "light"
     },
     "output_type": "display_data"
    }
   ],
   "source": [
    "for item in list1:\n",
    "    test=data[data['City']==item]\n",
    "    plt.plot(test['Year'], test['Avrg_HomeValue'], marker=\"^\", color=\"red\", label=\"l\")\n",
    "plt.xlim(2012,2018,1)\n",
    "plt.ylim(30000,1000000,50000)\n",
    "plt.show()"
   ]
  },
  {
   "cell_type": "code",
   "execution_count": 81,
   "metadata": {},
   "outputs": [
    {
     "data": {
      "text/plain": [
       "LinregressResult(slope=33.141173989127616, intercept=206.1339983619082, rvalue=0.5854967774001435, pvalue=2.0877880997149674e-57, stderr=1.8609650957471813)"
      ]
     },
     "execution_count": 81,
     "metadata": {},
     "output_type": "execute_result"
    }
   ],
   "source": [
    "import numpy as np\n",
    "correlation=data[data['Year']==2017]\n",
    "correlation=correlation.dropna()\n",
    "#P = np.percentile(correlation['MedianMonthly_HC'], [5, 95])\n",
    "#correlation = correlation[(correlation['MedianMonthly_HC'] > P[0]) & (correlation['MedianMonthly_HC'] < P[1])]\n",
    "#P = np.percentile(correlation['AvrgCommute'], [5, 95])\n",
    "#correlation = correlation[(correlation['AvrgCommute'] > P[0]) & (correlation['AvrgCommute'] < P[1])]\n",
    "from scipy.stats import linregress\n",
    "#numpy.corrcoef(correlation['AvrgCommute'], correlation['AvrgIncome'])[0, 1]\n",
    "linregress(correlation['AvrgCommute'], correlation['MedianMonthly_HC'])\n",
    "#correlation.corr()\n",
    "#sum(pd.isnull(correlation['AvrgCommute']))"
   ]
  },
  {
   "cell_type": "code",
   "execution_count": 82,
   "metadata": {},
   "outputs": [
    {
     "data": {
      "image/png": "[encoded data removed]",
      "text/plain": [
       "<Figure size 432x288 with 1 Axes>"
      ]
     },
     "metadata": {
      "needs_background": "light"
     },
     "output_type": "display_data"
    }
   ],
   "source": [
    "from sklearn.linear_model import LinearRegression\n",
    "import matplotlib\n",
    "matplotlib.use('qt5agg')\n",
    "\n",
    "import matplotlib.pyplot as plt\n",
    "import numpy as np\n",
    "\n",
    "# Create random data\n",
    "#randomNumberGenerator = np.random.RandomState(1000)\n",
    "x = correlation['AvrgCommute']\n",
    "y = correlation['MedianMonthly_HC']\n",
    "\n",
    "# Create model\n",
    "model = LinearRegression(fit_intercept=True)\n",
    "model.fit(x[:, np.newaxis], y)\n",
    "\n",
    "xfit = np.linspace(15, 60, 5)\n",
    "yfit = model.predict(xfit[:, np.newaxis])\n",
    "\n",
    "# plot\n",
    "plt.scatter(x, y)\n",
    "plt.plot(xfit, yfit,color='red');\n",
    "plt.show()\n",
    "#plt.scatter(data['AvrgCommute'], data['AvrgIncome'], marker=\"o\", color=\"red\", label=\"l\")\n",
    "#plt.xlim(2012,2018,1)\n",
    "#plt.ylim(30000,1000000,50000)\n",
    "#py.plot_mpl(fig, filename='linear-Fit-with-matplotlib')\n",
    "#plt.show()"
   ]
  },
  {
   "cell_type": "code",
   "execution_count": 27,
   "metadata": {},
   "outputs": [
    {
     "data": {
      "text/plain": [
       "(0.36072200827805956,\n",
       " 3.496119560664595e-20,\n",
       " 0.2896307709276843,\n",
       " 0.42785506190424605)"
      ]
     },
     "execution_count": 27,
     "metadata": {},
     "output_type": "execute_result"
    }
   ],
   "source": [
    "pearsonr_ci(correlation['AvrgCommute'], correlation['AvrgIncome'],alpha=0.05)"
   ]
  },
  {
   "cell_type": "code",
   "execution_count": null,
   "metadata": {},
   "outputs": [],
   "source": []
  }
 ],
 "metadata": {
  "kernelspec": {
   "display_name": "Python 3",
   "language": "python",
   "name": "python3"
  },
  "language_info": {
   "codemirror_mode": {
    "name": "ipython",
    "version": 3
   },
   "file_extension": ".py",
   "mimetype": "text/x-python",
   "name": "python",
   "nbconvert_exporter": "python",
   "pygments_lexer": "ipython3",
   "version": "3.7.1"
  }
 },
 "nbformat": 4,
 "nbformat_minor": 2
}
